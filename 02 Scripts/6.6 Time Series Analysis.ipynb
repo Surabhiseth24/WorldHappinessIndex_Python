{
 "cells": [
  {
   "cell_type": "code",
   "execution_count": 1,
   "id": "bff5c6d1-da9e-408c-8650-7d7b6610636a",
   "metadata": {},
   "outputs": [],
   "source": [
    "import pandas as pd\n",
    "import numpy as np\n",
    "import seaborn as sns\n",
    "import matplotlib\n",
    "import matplotlib.pyplot as plt\n",
    "import statsmodels.api as sm # Using .api imports the public access version of statsmodels, which is a library that handles \n",
    "# statistical models.\n",
    "import os\n",
    "import warnings # This is a library that handles warnings.\n",
    "\n",
    "warnings.filterwarnings(\"ignore\") # Disable deprecation warnings that could indicate, for instance, a suspended library or \n",
    "# feature. These are more relevant to developers and very seldom to analysts.\n",
    "\n",
    "plt.style.use('fivethirtyeight') # This is a styling option for how your plots will appear. More examples here:\n",
    "# https://matplotlib.org/3.2.1/tutorials/introductory/customizing.html\n",
    "# https://matplotlib.org/3.1.0/gallery/style_sheets/fivethirtyeight.html"
   ]
  },
  {
   "cell_type": "code",
   "execution_count": 3,
   "id": "04bf5ea7-96e1-4d59-9dab-132b0a94541a",
   "metadata": {},
   "outputs": [],
   "source": [
    "# import World Happiness Data of 2015 - 2019\n",
    "df_2015 = pd.read_csv(r'C:\\Users\\User\\Documents\\World Happiness Data\\02 Data\\Prepared Data\\wh2015.csv', index_col = False)\n",
    "df_2016 = pd.read_csv(r'C:\\Users\\User\\Documents\\World Happiness Data\\02 Data\\Prepared Data\\wh2016.csv', index_col = False)\n",
    "df_2017 = pd.read_csv(r'C:\\Users\\User\\Documents\\World Happiness Data\\02 Data\\Prepared Data\\wh2017.csv', index_col = False)\n",
    "df_2018 = pd.read_csv(r'C:\\Users\\User\\Documents\\World Happiness Data\\02 Data\\Prepared Data\\wh2018.csv', index_col = False)\n",
    "df_2019 = pd.read_csv(r'C:\\Users\\User\\Documents\\World Happiness Data\\02 Data\\Prepared Data\\wh2019.csv', index_col = False)"
   ]
  },
  {
   "cell_type": "code",
   "execution_count": 5,
   "id": "4a9ea124-c80e-4ff4-847e-87fc1050581e",
   "metadata": {},
   "outputs": [],
   "source": [
    "path = r'C:\\Users\\User\\Documents\\World Happiness Data'"
   ]
  },
  {
   "cell_type": "code",
   "execution_count": 7,
   "id": "1e0dad95-d47f-4308-b6c8-e25df3a60a3f",
   "metadata": {},
   "outputs": [],
   "source": [
    "df_2015 = pd.read_csv(os.path.join(path, '02 Data', 'Prepared Data', 'wh2015.csv'))\n",
    "df_2016 = pd.read_csv(os.path.join(path, '02 Data', 'Prepared Data', 'wh2016.csv'))\n",
    "df_2017 = pd.read_csv(os.path.join(path, '02 Data', 'Prepared Data', 'wh2017.csv'))\n",
    "df_2018 = pd.read_csv(os.path.join(path, '02 Data', 'Prepared Data', 'wh2018.csv'))\n",
    "df_2019 = pd.read_csv(os.path.join(path, '02 Data', 'Prepared Data', 'wh2019.csv'))"
   ]
  },
  {
   "cell_type": "code",
   "execution_count": 9,
   "id": "603075cb-277c-40bc-a255-831547437ccc",
   "metadata": {},
   "outputs": [
    {
     "data": {
      "text/html": [
       "<div>\n",
       "<style scoped>\n",
       "    .dataframe tbody tr th:only-of-type {\n",
       "        vertical-align: middle;\n",
       "    }\n",
       "\n",
       "    .dataframe tbody tr th {\n",
       "        vertical-align: top;\n",
       "    }\n",
       "\n",
       "    .dataframe thead th {\n",
       "        text-align: right;\n",
       "    }\n",
       "</style>\n",
       "<table border=\"1\" class=\"dataframe\">\n",
       "  <thead>\n",
       "    <tr style=\"text-align: right;\">\n",
       "      <th></th>\n",
       "      <th>Year</th>\n",
       "      <th>Country</th>\n",
       "      <th>Rank</th>\n",
       "      <th>Score</th>\n",
       "      <th>Economy</th>\n",
       "      <th>Family</th>\n",
       "      <th>Life_Expectancy</th>\n",
       "      <th>Freedom_of_choice</th>\n",
       "      <th>Perception_of_corruption</th>\n",
       "    </tr>\n",
       "  </thead>\n",
       "  <tbody>\n",
       "    <tr>\n",
       "      <th>0</th>\n",
       "      <td>2015</td>\n",
       "      <td>Switzerland</td>\n",
       "      <td>1</td>\n",
       "      <td>7.587</td>\n",
       "      <td>1.39651</td>\n",
       "      <td>1.34951</td>\n",
       "      <td>0.94143</td>\n",
       "      <td>0.66557</td>\n",
       "      <td>0.41978</td>\n",
       "    </tr>\n",
       "    <tr>\n",
       "      <th>1</th>\n",
       "      <td>2015</td>\n",
       "      <td>Iceland</td>\n",
       "      <td>2</td>\n",
       "      <td>7.561</td>\n",
       "      <td>1.30232</td>\n",
       "      <td>1.40223</td>\n",
       "      <td>0.94784</td>\n",
       "      <td>0.62877</td>\n",
       "      <td>0.14145</td>\n",
       "    </tr>\n",
       "    <tr>\n",
       "      <th>2</th>\n",
       "      <td>2015</td>\n",
       "      <td>Denmark</td>\n",
       "      <td>3</td>\n",
       "      <td>7.527</td>\n",
       "      <td>1.32548</td>\n",
       "      <td>1.36058</td>\n",
       "      <td>0.87464</td>\n",
       "      <td>0.64938</td>\n",
       "      <td>0.48357</td>\n",
       "    </tr>\n",
       "    <tr>\n",
       "      <th>3</th>\n",
       "      <td>2015</td>\n",
       "      <td>Norway</td>\n",
       "      <td>4</td>\n",
       "      <td>7.522</td>\n",
       "      <td>1.45900</td>\n",
       "      <td>1.33095</td>\n",
       "      <td>0.88521</td>\n",
       "      <td>0.66973</td>\n",
       "      <td>0.36503</td>\n",
       "    </tr>\n",
       "    <tr>\n",
       "      <th>4</th>\n",
       "      <td>2015</td>\n",
       "      <td>Canada</td>\n",
       "      <td>5</td>\n",
       "      <td>7.427</td>\n",
       "      <td>1.32629</td>\n",
       "      <td>1.32261</td>\n",
       "      <td>0.90563</td>\n",
       "      <td>0.63297</td>\n",
       "      <td>0.32957</td>\n",
       "    </tr>\n",
       "    <tr>\n",
       "      <th>...</th>\n",
       "      <td>...</td>\n",
       "      <td>...</td>\n",
       "      <td>...</td>\n",
       "      <td>...</td>\n",
       "      <td>...</td>\n",
       "      <td>...</td>\n",
       "      <td>...</td>\n",
       "      <td>...</td>\n",
       "      <td>...</td>\n",
       "    </tr>\n",
       "    <tr>\n",
       "      <th>153</th>\n",
       "      <td>2015</td>\n",
       "      <td>Rwanda</td>\n",
       "      <td>154</td>\n",
       "      <td>3.465</td>\n",
       "      <td>0.22208</td>\n",
       "      <td>0.77370</td>\n",
       "      <td>0.42864</td>\n",
       "      <td>0.59201</td>\n",
       "      <td>0.55191</td>\n",
       "    </tr>\n",
       "    <tr>\n",
       "      <th>154</th>\n",
       "      <td>2015</td>\n",
       "      <td>Benin</td>\n",
       "      <td>155</td>\n",
       "      <td>3.340</td>\n",
       "      <td>0.28665</td>\n",
       "      <td>0.35386</td>\n",
       "      <td>0.31910</td>\n",
       "      <td>0.48450</td>\n",
       "      <td>0.08010</td>\n",
       "    </tr>\n",
       "    <tr>\n",
       "      <th>155</th>\n",
       "      <td>2015</td>\n",
       "      <td>Syria</td>\n",
       "      <td>156</td>\n",
       "      <td>3.006</td>\n",
       "      <td>0.66320</td>\n",
       "      <td>0.47489</td>\n",
       "      <td>0.72193</td>\n",
       "      <td>0.15684</td>\n",
       "      <td>0.18906</td>\n",
       "    </tr>\n",
       "    <tr>\n",
       "      <th>156</th>\n",
       "      <td>2015</td>\n",
       "      <td>Burundi</td>\n",
       "      <td>157</td>\n",
       "      <td>2.905</td>\n",
       "      <td>0.01530</td>\n",
       "      <td>0.41587</td>\n",
       "      <td>0.22396</td>\n",
       "      <td>0.11850</td>\n",
       "      <td>0.10062</td>\n",
       "    </tr>\n",
       "    <tr>\n",
       "      <th>157</th>\n",
       "      <td>2015</td>\n",
       "      <td>Togo</td>\n",
       "      <td>158</td>\n",
       "      <td>2.839</td>\n",
       "      <td>0.20868</td>\n",
       "      <td>0.13995</td>\n",
       "      <td>0.28443</td>\n",
       "      <td>0.36453</td>\n",
       "      <td>0.10731</td>\n",
       "    </tr>\n",
       "  </tbody>\n",
       "</table>\n",
       "<p>158 rows × 9 columns</p>\n",
       "</div>"
      ],
      "text/plain": [
       "     Year      Country  Rank  Score  Economy   Family  Life_Expectancy  \\\n",
       "0    2015  Switzerland     1  7.587  1.39651  1.34951          0.94143   \n",
       "1    2015      Iceland     2  7.561  1.30232  1.40223          0.94784   \n",
       "2    2015      Denmark     3  7.527  1.32548  1.36058          0.87464   \n",
       "3    2015       Norway     4  7.522  1.45900  1.33095          0.88521   \n",
       "4    2015       Canada     5  7.427  1.32629  1.32261          0.90563   \n",
       "..    ...          ...   ...    ...      ...      ...              ...   \n",
       "153  2015       Rwanda   154  3.465  0.22208  0.77370          0.42864   \n",
       "154  2015        Benin   155  3.340  0.28665  0.35386          0.31910   \n",
       "155  2015        Syria   156  3.006  0.66320  0.47489          0.72193   \n",
       "156  2015      Burundi   157  2.905  0.01530  0.41587          0.22396   \n",
       "157  2015         Togo   158  2.839  0.20868  0.13995          0.28443   \n",
       "\n",
       "     Freedom_of_choice  Perception_of_corruption  \n",
       "0              0.66557                   0.41978  \n",
       "1              0.62877                   0.14145  \n",
       "2              0.64938                   0.48357  \n",
       "3              0.66973                   0.36503  \n",
       "4              0.63297                   0.32957  \n",
       "..                 ...                       ...  \n",
       "153            0.59201                   0.55191  \n",
       "154            0.48450                   0.08010  \n",
       "155            0.15684                   0.18906  \n",
       "156            0.11850                   0.10062  \n",
       "157            0.36453                   0.10731  \n",
       "\n",
       "[158 rows x 9 columns]"
      ]
     },
     "execution_count": 9,
     "metadata": {},
     "output_type": "execute_result"
    }
   ],
   "source": [
    "# add year column in dataframe\n",
    "df_2015.insert(0, \"Year\", [2015]*len(df_2015), True)\n",
    "df_2015"
   ]
  },
  {
   "cell_type": "code",
   "execution_count": 11,
   "id": "8acb1119-03b6-40b2-b2b5-7c8d27c7c762",
   "metadata": {},
   "outputs": [],
   "source": [
    "# add year column in dataframe\n",
    "df_2016.insert(0, \"Year\", [2016]*len(df_2016), True)\n",
    "df_2017.insert(0, \"Year\", [2017]*len(df_2017), True)\n",
    "df_2018.insert(0, \"Year\", [2018]*len(df_2018), True)\n",
    "df_2019.insert(0, \"Year\", [2019]*len(df_2019), True)"
   ]
  },
  {
   "cell_type": "raw",
   "id": "30e1a3c5-b7c3-407e-a4be-6ffe0e691893",
   "metadata": {},
   "source": [
    "df_2019.head()"
   ]
  },
  {
   "cell_type": "code",
   "execution_count": 13,
   "id": "a79618c7-ea97-4e27-a727-60c362333175",
   "metadata": {},
   "outputs": [],
   "source": [
    "col_order = ['Year', 'Rank', 'Country', 'Score', 'Economy', 'Family', 'Life_Expectancy', 'Freedom_of_choice', 'Perception_of_corruption']"
   ]
  },
  {
   "cell_type": "code",
   "execution_count": 15,
   "id": "ba9ad3dd-b70a-44d7-bb86-91f04f1bb331",
   "metadata": {},
   "outputs": [
    {
     "data": {
      "text/html": [
       "<div>\n",
       "<style scoped>\n",
       "    .dataframe tbody tr th:only-of-type {\n",
       "        vertical-align: middle;\n",
       "    }\n",
       "\n",
       "    .dataframe tbody tr th {\n",
       "        vertical-align: top;\n",
       "    }\n",
       "\n",
       "    .dataframe thead th {\n",
       "        text-align: right;\n",
       "    }\n",
       "</style>\n",
       "<table border=\"1\" class=\"dataframe\">\n",
       "  <thead>\n",
       "    <tr style=\"text-align: right;\">\n",
       "      <th></th>\n",
       "      <th>Year</th>\n",
       "      <th>Country</th>\n",
       "      <th>Rank</th>\n",
       "      <th>Score</th>\n",
       "      <th>Economy</th>\n",
       "      <th>Family</th>\n",
       "      <th>Life_Expectancy</th>\n",
       "      <th>Freedom_of_choice</th>\n",
       "      <th>Perception_of_corruption</th>\n",
       "    </tr>\n",
       "  </thead>\n",
       "  <tbody>\n",
       "    <tr>\n",
       "      <th>0</th>\n",
       "      <td>2017</td>\n",
       "      <td>Norway</td>\n",
       "      <td>1</td>\n",
       "      <td>7.537</td>\n",
       "      <td>1.616463</td>\n",
       "      <td>1.533524</td>\n",
       "      <td>0.796667</td>\n",
       "      <td>0.635423</td>\n",
       "      <td>0.315964</td>\n",
       "    </tr>\n",
       "    <tr>\n",
       "      <th>1</th>\n",
       "      <td>2017</td>\n",
       "      <td>Denmark</td>\n",
       "      <td>2</td>\n",
       "      <td>7.522</td>\n",
       "      <td>1.482383</td>\n",
       "      <td>1.551122</td>\n",
       "      <td>0.792566</td>\n",
       "      <td>0.626007</td>\n",
       "      <td>0.400770</td>\n",
       "    </tr>\n",
       "    <tr>\n",
       "      <th>2</th>\n",
       "      <td>2017</td>\n",
       "      <td>Iceland</td>\n",
       "      <td>3</td>\n",
       "      <td>7.504</td>\n",
       "      <td>1.480633</td>\n",
       "      <td>1.610574</td>\n",
       "      <td>0.833552</td>\n",
       "      <td>0.627163</td>\n",
       "      <td>0.153527</td>\n",
       "    </tr>\n",
       "    <tr>\n",
       "      <th>3</th>\n",
       "      <td>2017</td>\n",
       "      <td>Switzerland</td>\n",
       "      <td>4</td>\n",
       "      <td>7.494</td>\n",
       "      <td>1.564980</td>\n",
       "      <td>1.516912</td>\n",
       "      <td>0.858131</td>\n",
       "      <td>0.620071</td>\n",
       "      <td>0.367007</td>\n",
       "    </tr>\n",
       "    <tr>\n",
       "      <th>4</th>\n",
       "      <td>2017</td>\n",
       "      <td>Finland</td>\n",
       "      <td>5</td>\n",
       "      <td>7.469</td>\n",
       "      <td>1.443572</td>\n",
       "      <td>1.540247</td>\n",
       "      <td>0.809158</td>\n",
       "      <td>0.617951</td>\n",
       "      <td>0.382612</td>\n",
       "    </tr>\n",
       "  </tbody>\n",
       "</table>\n",
       "</div>"
      ],
      "text/plain": [
       "   Year      Country  Rank  Score   Economy    Family  Life_Expectancy  \\\n",
       "0  2017       Norway     1  7.537  1.616463  1.533524         0.796667   \n",
       "1  2017      Denmark     2  7.522  1.482383  1.551122         0.792566   \n",
       "2  2017      Iceland     3  7.504  1.480633  1.610574         0.833552   \n",
       "3  2017  Switzerland     4  7.494  1.564980  1.516912         0.858131   \n",
       "4  2017      Finland     5  7.469  1.443572  1.540247         0.809158   \n",
       "\n",
       "   Freedom_of_choice  Perception_of_corruption  \n",
       "0           0.635423                  0.315964  \n",
       "1           0.626007                  0.400770  \n",
       "2           0.627163                  0.153527  \n",
       "3           0.620071                  0.367007  \n",
       "4           0.617951                  0.382612  "
      ]
     },
     "execution_count": 15,
     "metadata": {},
     "output_type": "execute_result"
    }
   ],
   "source": [
    "df_2017.head()"
   ]
  },
  {
   "cell_type": "code",
   "execution_count": 17,
   "id": "ffb9151e-16c8-42fe-968d-0e0ba8f74c17",
   "metadata": {
    "scrolled": true
   },
   "outputs": [],
   "source": [
    "# rename columns in 2018 dataframe\n",
    "df_2018_1 = df_2018.rename(columns = {'Social support' : 'Family'})"
   ]
  },
  {
   "cell_type": "code",
   "execution_count": 19,
   "id": "53a7f525-1be7-4d63-8867-9c4867be21a1",
   "metadata": {},
   "outputs": [],
   "source": [
    "# rename columns in 2019 dataframe\n",
    "df_2019_1 = df_2019.rename(columns = {'Social support' : 'Family'})"
   ]
  },
  {
   "cell_type": "code",
   "execution_count": 21,
   "id": "c88e8bff-62c4-4771-b2a1-1075c52a1f68",
   "metadata": {},
   "outputs": [],
   "source": [
    "df_2016_new = df_2016[col_order]\n",
    "df_2017_new = df_2017[col_order]\n",
    "df_2015_new = df_2015[col_order]"
   ]
  },
  {
   "cell_type": "code",
   "execution_count": 23,
   "id": "befdb484-1f73-4bdf-8cb1-68f5c6402f5b",
   "metadata": {},
   "outputs": [],
   "source": [
    "df_2019_new = df_2019_1[col_order]\n",
    "df_2018_new = df_2018_1[col_order]"
   ]
  },
  {
   "cell_type": "code",
   "execution_count": 25,
   "id": "865636fa-2ec6-48d3-a407-58131a949bf0",
   "metadata": {},
   "outputs": [
    {
     "data": {
      "text/html": [
       "<div>\n",
       "<style scoped>\n",
       "    .dataframe tbody tr th:only-of-type {\n",
       "        vertical-align: middle;\n",
       "    }\n",
       "\n",
       "    .dataframe tbody tr th {\n",
       "        vertical-align: top;\n",
       "    }\n",
       "\n",
       "    .dataframe thead th {\n",
       "        text-align: right;\n",
       "    }\n",
       "</style>\n",
       "<table border=\"1\" class=\"dataframe\">\n",
       "  <thead>\n",
       "    <tr style=\"text-align: right;\">\n",
       "      <th></th>\n",
       "      <th>Year</th>\n",
       "      <th>Rank</th>\n",
       "      <th>Country</th>\n",
       "      <th>Score</th>\n",
       "      <th>Economy</th>\n",
       "      <th>Family</th>\n",
       "      <th>Life_Expectancy</th>\n",
       "      <th>Freedom_of_choice</th>\n",
       "      <th>Perception_of_corruption</th>\n",
       "    </tr>\n",
       "  </thead>\n",
       "  <tbody>\n",
       "    <tr>\n",
       "      <th>0</th>\n",
       "      <td>2019</td>\n",
       "      <td>1</td>\n",
       "      <td>Finland</td>\n",
       "      <td>7.769</td>\n",
       "      <td>1.340</td>\n",
       "      <td>1.587</td>\n",
       "      <td>0.986</td>\n",
       "      <td>0.596</td>\n",
       "      <td>0.393</td>\n",
       "    </tr>\n",
       "    <tr>\n",
       "      <th>1</th>\n",
       "      <td>2019</td>\n",
       "      <td>2</td>\n",
       "      <td>Denmark</td>\n",
       "      <td>7.600</td>\n",
       "      <td>1.383</td>\n",
       "      <td>1.573</td>\n",
       "      <td>0.996</td>\n",
       "      <td>0.592</td>\n",
       "      <td>0.410</td>\n",
       "    </tr>\n",
       "    <tr>\n",
       "      <th>2</th>\n",
       "      <td>2019</td>\n",
       "      <td>3</td>\n",
       "      <td>Norway</td>\n",
       "      <td>7.554</td>\n",
       "      <td>1.488</td>\n",
       "      <td>1.582</td>\n",
       "      <td>1.028</td>\n",
       "      <td>0.603</td>\n",
       "      <td>0.341</td>\n",
       "    </tr>\n",
       "    <tr>\n",
       "      <th>3</th>\n",
       "      <td>2019</td>\n",
       "      <td>4</td>\n",
       "      <td>Iceland</td>\n",
       "      <td>7.494</td>\n",
       "      <td>1.380</td>\n",
       "      <td>1.624</td>\n",
       "      <td>1.026</td>\n",
       "      <td>0.591</td>\n",
       "      <td>0.118</td>\n",
       "    </tr>\n",
       "    <tr>\n",
       "      <th>4</th>\n",
       "      <td>2019</td>\n",
       "      <td>5</td>\n",
       "      <td>Netherlands</td>\n",
       "      <td>7.488</td>\n",
       "      <td>1.396</td>\n",
       "      <td>1.522</td>\n",
       "      <td>0.999</td>\n",
       "      <td>0.557</td>\n",
       "      <td>0.298</td>\n",
       "    </tr>\n",
       "  </tbody>\n",
       "</table>\n",
       "</div>"
      ],
      "text/plain": [
       "   Year  Rank      Country  Score  Economy  Family  Life_Expectancy  \\\n",
       "0  2019     1      Finland  7.769    1.340   1.587            0.986   \n",
       "1  2019     2      Denmark  7.600    1.383   1.573            0.996   \n",
       "2  2019     3       Norway  7.554    1.488   1.582            1.028   \n",
       "3  2019     4      Iceland  7.494    1.380   1.624            1.026   \n",
       "4  2019     5  Netherlands  7.488    1.396   1.522            0.999   \n",
       "\n",
       "   Freedom_of_choice  Perception_of_corruption  \n",
       "0              0.596                     0.393  \n",
       "1              0.592                     0.410  \n",
       "2              0.603                     0.341  \n",
       "3              0.591                     0.118  \n",
       "4              0.557                     0.298  "
      ]
     },
     "execution_count": 25,
     "metadata": {},
     "output_type": "execute_result"
    }
   ],
   "source": [
    "df_2019_new.head()"
   ]
  },
  {
   "cell_type": "code",
   "execution_count": 27,
   "id": "af769c2e-7ce1-40db-a1e2-19ee0817d6a3",
   "metadata": {},
   "outputs": [],
   "source": [
    "df_happiness = pd.concat([df_2015_new, df_2016_new, df_2017_new, df_2018_new, df_2019_new])"
   ]
  },
  {
   "cell_type": "code",
   "execution_count": 29,
   "id": "27b00f36-f996-4e0e-ab96-830cacd96635",
   "metadata": {},
   "outputs": [
    {
     "data": {
      "text/html": [
       "<div>\n",
       "<style scoped>\n",
       "    .dataframe tbody tr th:only-of-type {\n",
       "        vertical-align: middle;\n",
       "    }\n",
       "\n",
       "    .dataframe tbody tr th {\n",
       "        vertical-align: top;\n",
       "    }\n",
       "\n",
       "    .dataframe thead th {\n",
       "        text-align: right;\n",
       "    }\n",
       "</style>\n",
       "<table border=\"1\" class=\"dataframe\">\n",
       "  <thead>\n",
       "    <tr style=\"text-align: right;\">\n",
       "      <th></th>\n",
       "      <th>Year</th>\n",
       "      <th>Rank</th>\n",
       "      <th>Country</th>\n",
       "      <th>Score</th>\n",
       "      <th>Economy</th>\n",
       "      <th>Family</th>\n",
       "      <th>Life_Expectancy</th>\n",
       "      <th>Freedom_of_choice</th>\n",
       "      <th>Perception_of_corruption</th>\n",
       "    </tr>\n",
       "  </thead>\n",
       "  <tbody>\n",
       "    <tr>\n",
       "      <th>0</th>\n",
       "      <td>2015</td>\n",
       "      <td>1</td>\n",
       "      <td>Switzerland</td>\n",
       "      <td>7.587</td>\n",
       "      <td>1.39651</td>\n",
       "      <td>1.34951</td>\n",
       "      <td>0.94143</td>\n",
       "      <td>0.66557</td>\n",
       "      <td>0.41978</td>\n",
       "    </tr>\n",
       "    <tr>\n",
       "      <th>1</th>\n",
       "      <td>2015</td>\n",
       "      <td>2</td>\n",
       "      <td>Iceland</td>\n",
       "      <td>7.561</td>\n",
       "      <td>1.30232</td>\n",
       "      <td>1.40223</td>\n",
       "      <td>0.94784</td>\n",
       "      <td>0.62877</td>\n",
       "      <td>0.14145</td>\n",
       "    </tr>\n",
       "    <tr>\n",
       "      <th>2</th>\n",
       "      <td>2015</td>\n",
       "      <td>3</td>\n",
       "      <td>Denmark</td>\n",
       "      <td>7.527</td>\n",
       "      <td>1.32548</td>\n",
       "      <td>1.36058</td>\n",
       "      <td>0.87464</td>\n",
       "      <td>0.64938</td>\n",
       "      <td>0.48357</td>\n",
       "    </tr>\n",
       "    <tr>\n",
       "      <th>3</th>\n",
       "      <td>2015</td>\n",
       "      <td>4</td>\n",
       "      <td>Norway</td>\n",
       "      <td>7.522</td>\n",
       "      <td>1.45900</td>\n",
       "      <td>1.33095</td>\n",
       "      <td>0.88521</td>\n",
       "      <td>0.66973</td>\n",
       "      <td>0.36503</td>\n",
       "    </tr>\n",
       "    <tr>\n",
       "      <th>4</th>\n",
       "      <td>2015</td>\n",
       "      <td>5</td>\n",
       "      <td>Canada</td>\n",
       "      <td>7.427</td>\n",
       "      <td>1.32629</td>\n",
       "      <td>1.32261</td>\n",
       "      <td>0.90563</td>\n",
       "      <td>0.63297</td>\n",
       "      <td>0.32957</td>\n",
       "    </tr>\n",
       "  </tbody>\n",
       "</table>\n",
       "</div>"
      ],
      "text/plain": [
       "   Year  Rank      Country  Score  Economy   Family  Life_Expectancy  \\\n",
       "0  2015     1  Switzerland  7.587  1.39651  1.34951          0.94143   \n",
       "1  2015     2      Iceland  7.561  1.30232  1.40223          0.94784   \n",
       "2  2015     3      Denmark  7.527  1.32548  1.36058          0.87464   \n",
       "3  2015     4       Norway  7.522  1.45900  1.33095          0.88521   \n",
       "4  2015     5       Canada  7.427  1.32629  1.32261          0.90563   \n",
       "\n",
       "   Freedom_of_choice  Perception_of_corruption  \n",
       "0            0.66557                   0.41978  \n",
       "1            0.62877                   0.14145  \n",
       "2            0.64938                   0.48357  \n",
       "3            0.66973                   0.36503  \n",
       "4            0.63297                   0.32957  "
      ]
     },
     "execution_count": 29,
     "metadata": {},
     "output_type": "execute_result"
    }
   ],
   "source": [
    "df_happiness.head()"
   ]
  },
  {
   "cell_type": "code",
   "execution_count": 31,
   "id": "7fe35278-f3e2-4751-abdc-b235e2bfa3e4",
   "metadata": {},
   "outputs": [
    {
     "data": {
      "text/html": [
       "<div>\n",
       "<style scoped>\n",
       "    .dataframe tbody tr th:only-of-type {\n",
       "        vertical-align: middle;\n",
       "    }\n",
       "\n",
       "    .dataframe tbody tr th {\n",
       "        vertical-align: top;\n",
       "    }\n",
       "\n",
       "    .dataframe thead th {\n",
       "        text-align: right;\n",
       "    }\n",
       "</style>\n",
       "<table border=\"1\" class=\"dataframe\">\n",
       "  <thead>\n",
       "    <tr style=\"text-align: right;\">\n",
       "      <th></th>\n",
       "      <th>Year</th>\n",
       "      <th>Rank</th>\n",
       "      <th>Country</th>\n",
       "      <th>Score</th>\n",
       "      <th>Economy</th>\n",
       "      <th>Family</th>\n",
       "      <th>Life_Expectancy</th>\n",
       "      <th>Freedom_of_choice</th>\n",
       "      <th>Perception_of_corruption</th>\n",
       "    </tr>\n",
       "  </thead>\n",
       "  <tbody>\n",
       "    <tr>\n",
       "      <th>151</th>\n",
       "      <td>2019</td>\n",
       "      <td>152</td>\n",
       "      <td>Rwanda</td>\n",
       "      <td>3.334</td>\n",
       "      <td>0.359</td>\n",
       "      <td>0.711</td>\n",
       "      <td>0.614</td>\n",
       "      <td>0.555</td>\n",
       "      <td>0.411</td>\n",
       "    </tr>\n",
       "    <tr>\n",
       "      <th>152</th>\n",
       "      <td>2019</td>\n",
       "      <td>153</td>\n",
       "      <td>Tanzania</td>\n",
       "      <td>3.231</td>\n",
       "      <td>0.476</td>\n",
       "      <td>0.885</td>\n",
       "      <td>0.499</td>\n",
       "      <td>0.417</td>\n",
       "      <td>0.147</td>\n",
       "    </tr>\n",
       "    <tr>\n",
       "      <th>153</th>\n",
       "      <td>2019</td>\n",
       "      <td>154</td>\n",
       "      <td>Afghanistan</td>\n",
       "      <td>3.203</td>\n",
       "      <td>0.350</td>\n",
       "      <td>0.517</td>\n",
       "      <td>0.361</td>\n",
       "      <td>0.000</td>\n",
       "      <td>0.025</td>\n",
       "    </tr>\n",
       "    <tr>\n",
       "      <th>154</th>\n",
       "      <td>2019</td>\n",
       "      <td>155</td>\n",
       "      <td>Central African Republic</td>\n",
       "      <td>3.083</td>\n",
       "      <td>0.026</td>\n",
       "      <td>0.000</td>\n",
       "      <td>0.105</td>\n",
       "      <td>0.225</td>\n",
       "      <td>0.035</td>\n",
       "    </tr>\n",
       "    <tr>\n",
       "      <th>155</th>\n",
       "      <td>2019</td>\n",
       "      <td>156</td>\n",
       "      <td>South Sudan</td>\n",
       "      <td>2.853</td>\n",
       "      <td>0.306</td>\n",
       "      <td>0.575</td>\n",
       "      <td>0.295</td>\n",
       "      <td>0.010</td>\n",
       "      <td>0.091</td>\n",
       "    </tr>\n",
       "  </tbody>\n",
       "</table>\n",
       "</div>"
      ],
      "text/plain": [
       "     Year  Rank                   Country  Score  Economy  Family  \\\n",
       "151  2019   152                    Rwanda  3.334    0.359   0.711   \n",
       "152  2019   153                  Tanzania  3.231    0.476   0.885   \n",
       "153  2019   154               Afghanistan  3.203    0.350   0.517   \n",
       "154  2019   155  Central African Republic  3.083    0.026   0.000   \n",
       "155  2019   156               South Sudan  2.853    0.306   0.575   \n",
       "\n",
       "     Life_Expectancy  Freedom_of_choice  Perception_of_corruption  \n",
       "151            0.614              0.555                     0.411  \n",
       "152            0.499              0.417                     0.147  \n",
       "153            0.361              0.000                     0.025  \n",
       "154            0.105              0.225                     0.035  \n",
       "155            0.295              0.010                     0.091  "
      ]
     },
     "execution_count": 31,
     "metadata": {},
     "output_type": "execute_result"
    }
   ],
   "source": [
    "df_happiness.tail()"
   ]
  },
  {
   "cell_type": "code",
   "execution_count": 33,
   "id": "6f30183e-163d-4d96-baec-5dca6d0672a4",
   "metadata": {},
   "outputs": [],
   "source": [
    "df_1 = df_happiness[[\"Year\", \"Score\"]]"
   ]
  },
  {
   "cell_type": "code",
   "execution_count": 35,
   "id": "7c83b234-8efa-492e-a985-66865e2077f9",
   "metadata": {},
   "outputs": [
    {
     "data": {
      "text/html": [
       "<div>\n",
       "<style scoped>\n",
       "    .dataframe tbody tr th:only-of-type {\n",
       "        vertical-align: middle;\n",
       "    }\n",
       "\n",
       "    .dataframe tbody tr th {\n",
       "        vertical-align: top;\n",
       "    }\n",
       "\n",
       "    .dataframe thead th {\n",
       "        text-align: right;\n",
       "    }\n",
       "</style>\n",
       "<table border=\"1\" class=\"dataframe\">\n",
       "  <thead>\n",
       "    <tr style=\"text-align: right;\">\n",
       "      <th></th>\n",
       "      <th>Year</th>\n",
       "      <th>Score</th>\n",
       "    </tr>\n",
       "  </thead>\n",
       "  <tbody>\n",
       "    <tr>\n",
       "      <th>0</th>\n",
       "      <td>2015</td>\n",
       "      <td>7.587</td>\n",
       "    </tr>\n",
       "    <tr>\n",
       "      <th>1</th>\n",
       "      <td>2015</td>\n",
       "      <td>7.561</td>\n",
       "    </tr>\n",
       "    <tr>\n",
       "      <th>2</th>\n",
       "      <td>2015</td>\n",
       "      <td>7.527</td>\n",
       "    </tr>\n",
       "  </tbody>\n",
       "</table>\n",
       "</div>"
      ],
      "text/plain": [
       "   Year  Score\n",
       "0  2015  7.587\n",
       "1  2015  7.561\n",
       "2  2015  7.527"
      ]
     },
     "execution_count": 35,
     "metadata": {},
     "output_type": "execute_result"
    }
   ],
   "source": [
    "df_1.head(3)"
   ]
  },
  {
   "cell_type": "code",
   "execution_count": 37,
   "id": "349b8552-0e0a-4e7f-8397-5834cc4b76f3",
   "metadata": {},
   "outputs": [],
   "source": [
    "df_3 = df_1.groupby('Year').mean()"
   ]
  },
  {
   "cell_type": "code",
   "execution_count": 39,
   "id": "6103bc8b-2f71-4af4-9466-915b094f3d66",
   "metadata": {},
   "outputs": [
    {
     "data": {
      "text/plain": [
       "pandas.core.frame.DataFrame"
      ]
     },
     "execution_count": 39,
     "metadata": {},
     "output_type": "execute_result"
    }
   ],
   "source": [
    "type(df_3)"
   ]
  },
  {
   "cell_type": "code",
   "execution_count": 41,
   "id": "835acd1e-f5a0-4991-8805-bf3dd7d14f70",
   "metadata": {},
   "outputs": [
    {
     "data": {
      "text/plain": [
       "[<matplotlib.lines.Line2D at 0x1676e406de0>]"
      ]
     },
     "execution_count": 41,
     "metadata": {},
     "output_type": "execute_result"
    },
    {
     "data": {
      "image/png": "[encoded data removed]",
      "text/plain": [
       "<Figure size 1000x500 with 1 Axes>"
      ]
     },
     "metadata": {},
     "output_type": "display_data"
    }
   ],
   "source": [
    "# Plot the data using matplotlib.\n",
    "\n",
    "plt.figure(figsize=(10,5), dpi=100)\n",
    "plt.plot(df_3)"
   ]
  },
  {
   "cell_type": "code",
   "execution_count": 59,
   "id": "c37899c6-bbb2-43ec-83be-b0ad595b38c3",
   "metadata": {},
   "outputs": [],
   "source": [
    "df_4 = df_3.reset_index()"
   ]
  },
  {
   "cell_type": "code",
   "execution_count": 61,
   "id": "8eccfd50-b592-4fb1-b138-be0bb8eb50e1",
   "metadata": {},
   "outputs": [],
   "source": [
    "df_4['Year'] = pd.to_datetime(df_4[\"Year\"], format='%Y')"
   ]
  },
  {
   "cell_type": "code",
   "execution_count": 63,
   "id": "ce13abeb-4b85-4f36-aecd-d738e176529a",
   "metadata": {},
   "outputs": [
    {
     "data": {
      "text/html": [
       "<div>\n",
       "<style scoped>\n",
       "    .dataframe tbody tr th:only-of-type {\n",
       "        vertical-align: middle;\n",
       "    }\n",
       "\n",
       "    .dataframe tbody tr th {\n",
       "        vertical-align: top;\n",
       "    }\n",
       "\n",
       "    .dataframe thead th {\n",
       "        text-align: right;\n",
       "    }\n",
       "</style>\n",
       "<table border=\"1\" class=\"dataframe\">\n",
       "  <thead>\n",
       "    <tr style=\"text-align: right;\">\n",
       "      <th></th>\n",
       "      <th>Score</th>\n",
       "    </tr>\n",
       "    <tr>\n",
       "      <th>Year</th>\n",
       "      <th></th>\n",
       "    </tr>\n",
       "  </thead>\n",
       "  <tbody>\n",
       "    <tr>\n",
       "      <th>2015-01-01</th>\n",
       "      <td>5.375734</td>\n",
       "    </tr>\n",
       "    <tr>\n",
       "      <th>2016-01-01</th>\n",
       "      <td>5.382185</td>\n",
       "    </tr>\n",
       "    <tr>\n",
       "      <th>2017-01-01</th>\n",
       "      <td>5.354019</td>\n",
       "    </tr>\n",
       "    <tr>\n",
       "      <th>2018-01-01</th>\n",
       "      <td>5.375917</td>\n",
       "    </tr>\n",
       "    <tr>\n",
       "      <th>2019-01-01</th>\n",
       "      <td>5.407096</td>\n",
       "    </tr>\n",
       "  </tbody>\n",
       "</table>\n",
       "</div>"
      ],
      "text/plain": [
       "               Score\n",
       "Year                \n",
       "2015-01-01  5.375734\n",
       "2016-01-01  5.382185\n",
       "2017-01-01  5.354019\n",
       "2018-01-01  5.375917\n",
       "2019-01-01  5.407096"
      ]
     },
     "execution_count": 63,
     "metadata": {},
     "output_type": "execute_result"
    }
   ],
   "source": [
    "df_4 = df_4.set_index('Year') # Set the datetime as the index of the dataframe.\n",
    "df_4.head()"
   ]
  },
  {
   "cell_type": "code",
   "execution_count": 65,
   "id": "5ba6a33c-9fc3-4337-a3ae-cb839071d323",
   "metadata": {},
   "outputs": [
    {
     "data": {
      "text/plain": [
       "[<matplotlib.lines.Line2D at 0x1676ea7ac90>]"
      ]
     },
     "execution_count": 65,
     "metadata": {},
     "output_type": "execute_result"
    },
    {
     "data": {
      "image/png": "[encoded data removed]",
      "text/plain": [
       "<Figure size 1500x500 with 1 Axes>"
      ]
     },
     "metadata": {},
     "output_type": "display_data"
    }
   ],
   "source": [
    "# Plot the new data set\n",
    "\n",
    "plt.figure(figsize=(15,5), dpi=100)\n",
    "plt.plot(df_4)"
   ]
  },
  {
   "cell_type": "code",
   "execution_count": 67,
   "id": "69ace10a-2080-4ad3-9bbb-eb51bb6dc492",
   "metadata": {},
   "outputs": [],
   "source": [
    "# Decompose the time series using an additive model\n",
    "\n",
    "decomposition = sm.tsa.seasonal_decompose(df_4, model='additive')"
   ]
  },
  {
   "cell_type": "code",
   "execution_count": 69,
   "id": "38ee02e1-7281-4f2e-b690-90e4bf8a73d6",
   "metadata": {},
   "outputs": [],
   "source": [
    "from pylab import rcParams # This will define a fixed size for all special charts.\n",
    "\n",
    "rcParams['figure.figsize'] = 18, 7"
   ]
  },
  {
   "cell_type": "code",
   "execution_count": 71,
   "id": "6887938e-6d11-443c-a0b8-ee901e1562bc",
   "metadata": {},
   "outputs": [
    {
     "data": {
      "image/png": "[encoded data removed]",
      "text/plain": [
       "<Figure size 1800x700 with 4 Axes>"
      ]
     },
     "metadata": {},
     "output_type": "display_data"
    }
   ],
   "source": [
    "# Plot the separate components\n",
    "\n",
    "decomposition.plot()\n",
    "plt.show()"
   ]
  },
  {
   "cell_type": "code",
   "execution_count": null,
   "id": "105b8a73-2997-4e85-8ba5-45140e67ad0c",
   "metadata": {},
   "outputs": [],
   "source": []
  }
 ],
 "metadata": {
  "kernelspec": {
   "display_name": "Python 3 (ipykernel)",
   "language": "python",
   "name": "python3"
  },
  "language_info": {
   "codemirror_mode": {
    "name": "ipython",
    "version": 3
   },
   "file_extension": ".py",
   "mimetype": "text/x-python",
   "name": "python",
   "nbconvert_exporter": "python",
   "pygments_lexer": "ipython3",
   "version": "3.12.4"
  }
 },
 "nbformat": 4,
 "nbformat_minor": 5
}
